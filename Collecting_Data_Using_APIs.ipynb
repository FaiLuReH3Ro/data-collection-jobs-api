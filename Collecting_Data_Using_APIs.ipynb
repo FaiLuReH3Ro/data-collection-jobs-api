{
 "cells": [
  {
   "cell_type": "markdown",
   "metadata": {},
   "source": [
    "# **Collecting Job Data Using APIs**\n"
   ]
  },
  {
   "cell_type": "markdown",
   "metadata": {},
   "source": [
    "## Dataset Used\n",
    "\n",
    "The dataset used here comes from the following source: https://www.kaggle.com/promptcloud/jobs-on-naukricom\n",
    "\n",
    "> Note: The dataset in this notebook is modified. The original dataset is a csv and is converted to json here."
   ]
  },
  {
   "cell_type": "markdown",
   "metadata": {},
   "source": [
    "<h2>Objectives</h2>\n",
    "\n",
    "<ul>\n",
    "    <li>Determine the number of jobs open for various technologies</li>\n",
    "    <li>Determine the number of jobs open for various locations</li>\n",
    "    <li>Export the data to an Excel spreadsheet</li>\n",
    "</ul>\n"
   ]
  },
  {
   "cell_type": "markdown",
   "metadata": {},
   "source": [
    "<h2>Locations</h2>\n",
    "\n",
    "* Los Angeles\n",
    "* New York\n",
    "* San Francisco\n",
    "* Washington DC\n",
    "* Seattle\n",
    "* Austin\n",
    "* Detroit\n",
    "\n",
    "<h2>Technologies</h2>\n",
    "\n",
    "*   C\n",
    "*   C#\n",
    "*   C++\n",
    "*   Java\n",
    "*   JavaScript\n",
    "*   Python\n",
    "*   Scala\n",
    "*   Oracle\n",
    "*   SQL Server\n",
    "*   MySQL Server\n",
    "*   PostgreSQL\n",
    "*   MongoDB\n"
   ]
  },
  {
   "cell_type": "markdown",
   "metadata": {},
   "source": [
    "\n",
    " <h2>JSON Keys</h2>\n",
    " \n",
    " * Job Title\n",
    " * Job Experience Required\n",
    " * Key Skills\n",
    " * Role Category\n",
    " * Location\n",
    " * Functional Area\n",
    " * Industry\n",
    " * Role \n",
    " \n",
    "You can also view the json file contents from the following <a href = \"https://cf-courses-data.s3.us.cloud-object-storage.appdomain.cloud/IBM-DA0321EN-SkillsNetwork/labs/module%201/Accessing%20Data%20Using%20APIs/jobs.json\">json</a> URL.\n"
   ]
  },
  {
   "cell_type": "markdown",
   "metadata": {},
   "source": [
    "<h2>Using the Jobs API</h2>\n",
    "\n",
    "<p>The API was provided by IBM in the original lab.</p>\n",
    "\n",
    "<ol>\n",
    "    <li>Download the Jobs_API.ipynb file</li>\n",
    "    <li>Place the file in the same folder as this file</li>\n",
    "    <li>Run all the cells in the Jobs API notebook</li>\n",
    "</ol>\n",
    "\n",
    "Original Source: [Jobs_API](https://cf-courses-data.s3.us.cloud-object-storage.appdomain.cloud/IBM-DA0321EN-SkillsNetwork/labs/module%201/Accessing%20Data%20Using%20APIs/Jobs_API.ipynb)"
   ]
  },
  {
   "cell_type": "code",
   "execution_count": null,
   "metadata": {},
   "outputs": [],
   "source": [
    "#Import libraries\n",
    "import requests\n",
    "import pandas as pd\n",
    "import json"
   ]
  },
  {
   "cell_type": "markdown",
   "metadata": {},
   "source": [
    "<h3>Function to find the number of jobs for a technology</h3>"
   ]
  },
  {
   "cell_type": "code",
   "execution_count": null,
   "metadata": {},
   "outputs": [],
   "source": [
    "api_url=\"http://127.0.0.1:5000/data\"\n",
    "#json_url = \"https://cf-courses-data.s3.us.cloud-object-storage.appdomain.cloud/IBM-DA0321EN-SkillsNetwork/labs/module%201/Accessing%20Data%20Using%20APIs/jobs.json\"\n",
    "\n",
    "def get_number_of_jobs_T(technology):\n",
    "    payload = {\"Key Skills\" : technology}\n",
    "    response = requests.get(api_url, params=payload)\n",
    "    if response.ok:\n",
    "        data = response.json()\n",
    "        number_of_jobs = len(data)\n",
    "        return technology, number_of_jobs\n",
    "    else:\n",
    "        return f\"Error has occurred or {technology} was not found.\""
   ]
  },
  {
   "cell_type": "code",
   "execution_count": null,
   "metadata": {},
   "outputs": [
    {
     "data": {
      "text/plain": [
       "('Python', 1173)"
      ]
     },
     "execution_count": 53,
     "metadata": {},
     "output_type": "execute_result"
    }
   ],
   "source": [
    "# Testing the function with Python as an argument\n",
    "get_number_of_jobs_T(\"Python\")"
   ]
  },
  {
   "cell_type": "markdown",
   "metadata": {},
   "source": [
    "### Function to find number of jobs in US for a location\n"
   ]
  },
  {
   "cell_type": "code",
   "execution_count": 54,
   "metadata": {},
   "outputs": [],
   "source": [
    "def get_number_of_jobs_L(location):\n",
    "    payload = {\"Location\" : location}\n",
    "    response = requests.get(api_url, payload)\n",
    "    if response.ok:\n",
    "        data = response.json()\n",
    "        number_of_jobs = len(data)\n",
    "        return location, number_of_jobs\n",
    "    else:\n",
    "        return f\"Error has occurred or {location} was not found.\""
   ]
  },
  {
   "cell_type": "code",
   "execution_count": null,
   "metadata": {},
   "outputs": [
    {
     "data": {
      "text/plain": [
       "('Los Angeles', 640)"
      ]
     },
     "execution_count": 55,
     "metadata": {},
     "output_type": "execute_result"
    }
   ],
   "source": [
    "# Testing the function with Los Angeles as an argument\n",
    "get_number_of_jobs_L(\"Los Angeles\")"
   ]
  },
  {
   "cell_type": "markdown",
   "metadata": {},
   "source": [
    "### Store the results in an excel file\n"
   ]
  },
  {
   "cell_type": "code",
   "execution_count": null,
   "metadata": {},
   "outputs": [],
   "source": [
    "# List of locations\n",
    "locations = ['Los Angeles', 'New York', 'San Francisco', 'Washington DC', 'Seattle', 'Austin', 'Detroit']\n",
    "\n",
    "# List to store the # of job postings in the location\n",
    "job_postings_L = []\n",
    "\n",
    "# Get the # of jobs in each location and appending to the list\n",
    "for location in locations:\n",
    "    l, n = get_number_of_jobs_L(location)\n",
    "    job_postings_L.append(n)\n",
    "\n",
    "# Create a dataframe to store the data\n",
    "df = pd.DataFrame({'Location': locations, 'Number of Jobs': job_postings_L})\n",
    "\n",
    "# Save the dataframe to an excel spreadsheet\n",
    "df.to_excel(\"job-postings-location.xlsx\", index=False)"
   ]
  },
  {
   "cell_type": "code",
   "execution_count": 60,
   "metadata": {},
   "outputs": [],
   "source": [
    "# List of the technologies\n",
    "technologies = ['C', 'C#', 'C++', 'Java', 'JavaScript', 'Python', 'Scala', 'Oracle', 'SQL Server', 'MySQL Server', 'PostgreSQL', 'MongoDB']\n",
    "\n",
    "# List to store the # of job postings for the technologies\n",
    "job_postings_T = []\n",
    "\n",
    "# Find the # of job postings using the defined function and append to list\n",
    "for technology in technologies:\n",
    "    t, n = get_number_of_jobs_T(technology)\n",
    "    job_postings_T.append(n)\n",
    "\n",
    "# Create a dataframe with pandas using the lists\n",
    "df_technology = pd.DataFrame({'Technology': technologies, 'Number of Jobs': job_postings_T})\n",
    "\n",
    "# Export the dataframe to excel \n",
    "df_technology.to_excel(\"job-postings-technology.xlsx\", index=False)"
   ]
  },
  {
   "cell_type": "markdown",
   "metadata": {},
   "source": [
    "<h2>Note:</h2>\n",
    "\n",
    "<p>This is a modified version of the original IBM Lab. Many things were removed to make it easier to understand and follow along.</p>"
   ]
  }
 ],
 "metadata": {
  "kernelspec": {
   "display_name": ".venv (3.11.9)",
   "language": "python",
   "name": "python3"
  },
  "language_info": {
   "codemirror_mode": {
    "name": "ipython",
    "version": 3
   },
   "file_extension": ".py",
   "mimetype": "text/x-python",
   "name": "python",
   "nbconvert_exporter": "python",
   "pygments_lexer": "ipython3",
   "version": "3.11.9"
  }
 },
 "nbformat": 4,
 "nbformat_minor": 4
}
